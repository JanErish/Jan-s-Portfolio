{
 "cells": [
  {
   "cell_type": "markdown",
   "metadata": {},
   "source": [
    "# Portfolio Analysis\n",
    "author: Jan Erish Baluca\n",
    "LinkedIn: https://www.linkedin.com/in/jan-erish-baluca-099569103/\n",
    "\n",
    "Dataset Source: Datacamp"
   ]
  },
  {
   "cell_type": "code",
   "execution_count": 14,
   "metadata": {},
   "outputs": [
    {
     "data": {
      "text/html": [
       "<table>\n",
       "<thead><tr><th></th><th scope=col>values</th><th scope=col>weights</th></tr></thead>\n",
       "<tbody>\n",
       "\t<tr><th scope=row>Inv 1</th><td>5e+05     </td><td>0.60975610</td></tr>\n",
       "\t<tr><th scope=row>Inv 2</th><td>2e+05     </td><td>0.24390244</td></tr>\n",
       "\t<tr><th scope=row>Inv 3</th><td>1e+05     </td><td>0.12195122</td></tr>\n",
       "\t<tr><th scope=row>Inv 4</th><td>2e+04     </td><td>0.02439024</td></tr>\n",
       "</tbody>\n",
       "</table>\n"
      ],
      "text/latex": [
       "\\begin{tabular}{r|ll}\n",
       "  & values & weights\\\\\n",
       "\\hline\n",
       "\tInv 1 & 5e+05      & 0.60975610\\\\\n",
       "\tInv 2 & 2e+05      & 0.24390244\\\\\n",
       "\tInv 3 & 1e+05      & 0.12195122\\\\\n",
       "\tInv 4 & 2e+04      & 0.02439024\\\\\n",
       "\\end{tabular}\n"
      ],
      "text/markdown": [
       "\n",
       "| <!--/--> | values | weights | \n",
       "|---|---|---|---|\n",
       "| Inv 1 | 5e+05      | 0.60975610 | \n",
       "| Inv 2 | 2e+05      | 0.24390244 | \n",
       "| Inv 3 | 1e+05      | 0.12195122 | \n",
       "| Inv 4 | 2e+04      | 0.02439024 | \n",
       "\n",
       "\n"
      ],
      "text/plain": [
       "      values weights   \n",
       "Inv 1 5e+05  0.60975610\n",
       "Inv 2 2e+05  0.24390244\n",
       "Inv 3 1e+05  0.12195122\n",
       "Inv 4 2e+04  0.02439024"
      ]
     },
     "metadata": {},
     "output_type": "display_data"
    }
   ],
   "source": [
    "# Define the vector values\n",
    "values <- c(500000, 200000, 100000, 20000)\n",
    "names(values) <- c('Inv 1', 'Inv 2', 'Inv 3', 'Inv 4')\n",
    "portfolio <- as.data.frame(values)\n",
    "\n",
    "# Define the vector weights\n",
    "portfolio$weights <- values / sum(values)\n",
    "\n",
    "# Print the resulting weights\n",
    "portfolio"
   ]
  },
  {
   "cell_type": "markdown",
   "metadata": {},
   "source": [
    "# Portfolio Returns\n",
    "### Relative Value  \n",
    "\n",
    "The return of an asset is its simple return (its final value less its initial value) divided by its initial value. The relative return of a portfolio is the summation of every asset return multiplied that has been multiplied by its respective asset weight."
   ]
  },
  {
   "cell_type": "code",
   "execution_count": 15,
   "metadata": {},
   "outputs": [
    {
     "data": {
      "text/html": [
       "<table>\n",
       "<thead><tr><th></th><th scope=col>initial_value</th><th scope=col>final_value</th><th scope=col>weights</th><th scope=col>returns</th><th scope=col>weighted_returns</th></tr></thead>\n",
       "<tbody>\n",
       "\t<tr><th scope=row>Asset_1</th><td>1000   </td><td>1100   </td><td>0.125  </td><td> 0.1   </td><td> 0.0125</td></tr>\n",
       "\t<tr><th scope=row>Asset_2</th><td>5000   </td><td>4500   </td><td>0.625  </td><td>-0.1   </td><td>-0.0625</td></tr>\n",
       "\t<tr><th scope=row>Asset_3</th><td>2000   </td><td>3000   </td><td>0.250  </td><td> 0.5   </td><td> 0.1250</td></tr>\n",
       "</tbody>\n",
       "</table>\n"
      ],
      "text/latex": [
       "\\begin{tabular}{r|lllll}\n",
       "  & initial\\_value & final\\_value & weights & returns & weighted\\_returns\\\\\n",
       "\\hline\n",
       "\tAsset\\_1 & 1000    & 1100    & 0.125   &  0.1    &  0.0125\\\\\n",
       "\tAsset\\_2 & 5000    & 4500    & 0.625   & -0.1    & -0.0625\\\\\n",
       "\tAsset\\_3 & 2000    & 3000    & 0.250   &  0.5    &  0.1250\\\\\n",
       "\\end{tabular}\n"
      ],
      "text/markdown": [
       "\n",
       "| <!--/--> | initial_value | final_value | weights | returns | weighted_returns | \n",
       "|---|---|---|\n",
       "| Asset_1 | 1000    | 1100    | 0.125   |  0.1    |  0.0125 | \n",
       "| Asset_2 | 5000    | 4500    | 0.625   | -0.1    | -0.0625 | \n",
       "| Asset_3 | 2000    | 3000    | 0.250   |  0.5    |  0.1250 | \n",
       "\n",
       "\n"
      ],
      "text/plain": [
       "        initial_value final_value weights returns weighted_returns\n",
       "Asset_1 1000          1100        0.125    0.1     0.0125         \n",
       "Asset_2 5000          4500        0.625   -0.1    -0.0625         \n",
       "Asset_3 2000          3000        0.250    0.5     0.1250         "
      ]
     },
     "metadata": {},
     "output_type": "display_data"
    },
    {
     "data": {
      "text/html": [
       "0.075"
      ],
      "text/latex": [
       "0.075"
      ],
      "text/markdown": [
       "0.075"
      ],
      "text/plain": [
       "[1] 0.075"
      ]
     },
     "metadata": {},
     "output_type": "display_data"
    }
   ],
   "source": [
    "# building the portfolio\n",
    "assets <- c('Asset_1','Asset_2','Asset_3')\n",
    "initial_value <- c(1000, 5000, 2000)\n",
    "final_value <- c(1100,4500,3000)\n",
    "portfolio <- data.frame(initial_value,final_value)\n",
    "rownames(portfolio) <- assets\n",
    "\n",
    "# calculating asset weights\n",
    "portfolio$weights <- portfolio$initial_value / sum(portfolio$initial_value)\n",
    "\n",
    "# calculating asset returns\n",
    "portfolio$returns <- (portfolio$final_value - portfolio$initial_value) / portfolio$initial_value\n",
    "\n",
    "# calculating weighted asset returns\n",
    "portfolio$weighted_returns <- portfolio$returns * portfolio$weights\n",
    "portfolio\n",
    "\n",
    "# calculated weighted portfolio returns\n",
    "sum(portfolio$weighted_returns)"
   ]
  },
  {
   "cell_type": "markdown",
   "metadata": {},
   "source": [
    "# Time Series: Returns"
   ]
  },
  {
   "cell_type": "code",
   "execution_count": 16,
   "metadata": {},
   "outputs": [
    {
     "data": {},
     "metadata": {},
     "output_type": "display_data"
    },
    {
     "data": {
      "image/png": "[encoded data removed]",
      "text/plain": [
       "plot without title"
      ]
     },
     "metadata": {},
     "output_type": "display_data"
    }
   ],
   "source": [
    "# importing time series data: prices\n",
    "library(xts)\n",
    "library(zoo)\n",
    "library(PerformanceAnalytics)\n",
    "prices <- read.csv('msft_aapl.csv')\n",
    "prices$date <- as.Date(prices$date)\n",
    "prices <- xts(x=prices[,c(2,3)], order.by=prices$date)\n",
    "\n",
    "# plotting time series data: prices\n",
    "plot(prices, main=\"Apple and Microsoft daily stock prices\")\n",
    "legend(x=\"bottomright\", legend=c(\"Apple\",\"Microsoft\"), col=c(\"black\",\"red\"), lty=c(1,1))"
   ]
  },
  {
   "cell_type": "code",
   "execution_count": 17,
   "metadata": {},
   "outputs": [
    {
     "data": {},
     "metadata": {},
     "output_type": "display_data"
    },
    {
     "data": {
      "image/png": "[encoded data removed]",
      "text/plain": [
       "plot without title"
      ]
     },
     "metadata": {},
     "output_type": "display_data"
    }
   ],
   "source": [
    "# Calculate daily returns\n",
    "returns <- Return.calculate(prices)\n",
    "returns <- returns[-1,]\n",
    "\n",
    "# Plotting daily returns\n",
    "plot(returns, main=\"sp500 daily returns\")"
   ]
  },
  {
   "cell_type": "markdown",
   "metadata": {},
   "source": [
    "# Portfolio Performance\n",
    "\n",
    "In order to evaluate our portfolio's performance, we will use SP500 performance as a benchmark."
   ]
  },
  {
   "cell_type": "code",
   "execution_count": 18,
   "metadata": {
    "scrolled": false
   },
   "outputs": [
    {
     "data": {
      "text/plain": [
       "         sp500.Open sp500.High sp500.Low sp500.Close\n",
       "Jun 2007    1503.35    1503.35   1503.35     1503.35\n",
       "Jul 2007    1519.43    1553.08   1455.27     1455.27\n",
       "Aug 2007    1465.81    1497.49   1406.70     1473.99\n",
       "Sep 2007    1489.42    1531.38   1451.70     1526.75\n",
       "Oct 2007    1547.04    1565.15   1500.63     1549.38\n",
       "Nov 2007    1508.44    1520.27   1407.22     1481.14"
      ]
     },
     "metadata": {},
     "output_type": "display_data"
    },
    {
     "data": {},
     "metadata": {},
     "output_type": "display_data"
    },
    {
     "data": {
      "text/html": [
       "'Mean of SP500 Monthly Returns: 0.00452014912280702'"
      ],
      "text/latex": [
       "'Mean of SP500 Monthly Returns: 0.00452014912280702'"
      ],
      "text/markdown": [
       "'Mean of SP500 Monthly Returns: 0.00452014912280702'"
      ],
      "text/plain": [
       "[1] \"Mean of SP500 Monthly Returns: 0.00452014912280702\""
      ]
     },
     "metadata": {},
     "output_type": "display_data"
    },
    {
     "data": {
      "text/html": [
       "'Geometric Mean of SP500 Monthly Returns: 1.00401539236417'"
      ],
      "text/latex": [
       "'Geometric Mean of SP500 Monthly Returns: 1.00401539236417'"
      ],
      "text/markdown": [
       "'Geometric Mean of SP500 Monthly Returns: 1.00401539236417'"
      ],
      "text/plain": [
       "[1] \"Geometric Mean of SP500 Monthly Returns: 1.00401539236417\""
      ]
     },
     "metadata": {},
     "output_type": "display_data"
    },
    {
     "data": {
      "text/html": [
       "'Volatility of SP500 Monthly Returns 0.0449319383692128'"
      ],
      "text/latex": [
       "'Volatility of SP500 Monthly Returns 0.0449319383692128'"
      ],
      "text/markdown": [
       "'Volatility of SP500 Monthly Returns 0.0449319383692128'"
      ],
      "text/plain": [
       "[1] \"Volatility of SP500 Monthly Returns 0.0449319383692128\""
      ]
     },
     "metadata": {},
     "output_type": "display_data"
    },
    {
     "data": {
      "image/png": "[encoded data removed]",
      "text/plain": [
       "plot without title"
      ]
     },
     "metadata": {},
     "output_type": "display_data"
    }
   ],
   "source": [
    "# importing sp500 data\n",
    "sp500 <- read.csv('sp500.csv')\n",
    "rownames(sp500) <- sp500$date\n",
    "sp500$date <- NULL\n",
    "sp500 <- as.xts(sp500)\n",
    "\n",
    "# Convert daily frequency data to monthly\n",
    "sp500_monthly <- to.monthly(sp500)\n",
    "head(sp500_monthly)\n",
    "\n",
    "# Calculate monthly returns using closing prices\n",
    "sp500_monthly_returns <- round(Return.calculate(sp500_monthly[,4]), digits=6)\n",
    "\n",
    "# Filling in missing data: forward-fill\n",
    "sp500_monthly_returns <- na.locf(sp500_monthly_returns)\n",
    "sp500_monthly_returns <- sp500_monthly_returns[-1,]\n",
    "\n",
    "# Plot\n",
    "plot(sp500_monthly_returns, main=\"SP500 Monthly Returns\")\n",
    "\n",
    "\n",
    "# Compute mean of monthly returns\n",
    "paste0(\"Mean of SP500 Monthly Returns: \", mean(sp500_monthly_returns))\n",
    "# Compute geometric mean of monthly returns\n",
    "paste0(\"Geometric Mean of SP500 Monthly Returns: \",mean.geometric(sp500_monthly_returns + 1))\n",
    "# Compute the volatility (standard deviation) of monthly returns\n",
    "paste0(\"Volatility of SP500 Monthly Returns \", sd(sp500_monthly_returns))"
   ]
  },
  {
   "cell_type": "code",
   "execution_count": 19,
   "metadata": {
    "scrolled": false
   },
   "outputs": [
    {
     "data": {},
     "metadata": {},
     "output_type": "display_data"
    },
    {
     "data": {
      "image/png": "[encoded data removed]",
      "text/plain": [
       "plot without title"
      ]
     },
     "metadata": {},
     "output_type": "display_data"
    }
   ],
   "source": [
    "library(readxl)\n",
    "\n",
    "# Importing risk-free rate data\n",
    "rf <- read_excel('t_bill_rates.xlsx')\n",
    "rf <- as.data.frame(rf)\n",
    "rownames(rf) <- rf$date\n",
    "rf$date <- NULL\n",
    "rf <- as.xts(rf)\n",
    "\n",
    "# slicing needed date range\n",
    "rf <- rf[paste0(as.Date(index(sp500_monthly_returns)[1]),\"/\", as.Date(index(sp500_monthly_returns)[length(sp500_monthly_returns)]))]\n",
    "\n",
    "# extending data to fill required date range\n",
    "added <- data.frame(date=c(\"2016-09-30\",\"2016-10-31\",\"2016-11-30\",\"2016-12-30\"), rf=c(0.0002,0.0002,0.0002,0.0002))\n",
    "added <-as.data.frame(added)\n",
    "rownames(added) <- added$date\n",
    "added$date <- NULL\n",
    "added <- as.xts(added)\n",
    "rf <- rbind(rf, added)\n",
    "\n",
    "# Annualized Risk-free Rate\n",
    "annualized_rf = (1 + rf)^12 - 1\n",
    "plot(annualized_rf)"
   ]
  },
  {
   "cell_type": "code",
   "execution_count": 20,
   "metadata": {},
   "outputs": [
    {
     "data": {
      "text/html": [
       "'Mean of SP500 monthly returns: 0.00452014912280702'"
      ],
      "text/latex": [
       "'Mean of SP500 monthly returns: 0.00452014912280702'"
      ],
      "text/markdown": [
       "'Mean of SP500 monthly returns: 0.00452014912280702'"
      ],
      "text/plain": [
       "[1] \"Mean of SP500 monthly returns: 0.00452014912280702\""
      ]
     },
     "metadata": {},
     "output_type": "display_data"
    },
    {
     "data": {
      "text/html": [
       "'Mean of SP500 nexcess monthly returns: 0.0041885701754386'"
      ],
      "text/latex": [
       "'Mean of SP500 nexcess monthly returns: 0.0041885701754386'"
      ],
      "text/markdown": [
       "'Mean of SP500 nexcess monthly returns: 0.0041885701754386'"
      ],
      "text/plain": [
       "[1] \"Mean of SP500 nexcess monthly returns: 0.0041885701754386\""
      ]
     },
     "metadata": {},
     "output_type": "display_data"
    },
    {
     "data": {
      "text/html": [
       "'SP500 Sharpe Ratio: 0.093220331182253'"
      ],
      "text/latex": [
       "'SP500 Sharpe Ratio: 0.093220331182253'"
      ],
      "text/markdown": [
       "'SP500 Sharpe Ratio: 0.093220331182253'"
      ],
      "text/plain": [
       "[1] \"SP500 Sharpe Ratio: 0.093220331182253\""
      ]
     },
     "metadata": {},
     "output_type": "display_data"
    }
   ],
   "source": [
    "# Compute the excess portfolio returns\n",
    "sp500_excess <- as.data.frame(sp500_monthly_returns) - as.data.frame(rf)\n",
    "colnames(sp500_excess) <- \"Excess\"\n",
    "\n",
    "# Comparing the means\n",
    "paste0(\"Mean of SP500 monthly returns: \",mean(sp500_monthly_returns))\n",
    "paste0(\"Mean of SP500 nexcess monthly returns: \", mean(sp500_excess$Excess))\n",
    "\n",
    "# Sharpe Ratio\n",
    "sp500_sharpe <- mean(sp500_excess$Excess) / sd(sp500_monthly_returns)\n",
    "paste0(\"SP500 Sharpe Ratio: \",sp500_sharpe)"
   ]
  },
  {
   "cell_type": "code",
   "execution_count": 21,
   "metadata": {},
   "outputs": [
    {
     "data": {
      "text/html": [
       "<table>\n",
       "<thead><tr><th></th><th scope=col>sp500.Close</th></tr></thead>\n",
       "<tbody>\n",
       "\t<tr><th scope=row>Annualized Return</th><td>0.0428</td></tr>\n",
       "\t<tr><th scope=row>Annualized Std Dev</th><td>0.1556</td></tr>\n",
       "\t<tr><th scope=row>Annualized Sharpe (Rf=0%)</th><td>0.2751</td></tr>\n",
       "</tbody>\n",
       "</table>\n"
      ],
      "text/latex": [
       "\\begin{tabular}{r|l}\n",
       "  & sp500.Close\\\\\n",
       "\\hline\n",
       "\tAnnualized Return & 0.0428\\\\\n",
       "\tAnnualized Std Dev & 0.1556\\\\\n",
       "\tAnnualized Sharpe (Rf=0\\%) & 0.2751\\\\\n",
       "\\end{tabular}\n"
      ],
      "text/markdown": [
       "\n",
       "| <!--/--> | sp500.Close | \n",
       "|---|---|---|\n",
       "| Annualized Return | 0.0428 | \n",
       "| Annualized Std Dev | 0.1556 | \n",
       "| Annualized Sharpe (Rf=0%) | 0.2751 | \n",
       "\n",
       "\n"
      ],
      "text/plain": [
       "                          sp500.Close\n",
       "Annualized Return         0.0428     \n",
       "Annualized Std Dev        0.1556     \n",
       "Annualized Sharpe (Rf=0%) 0.2751     "
      ]
     },
     "metadata": {},
     "output_type": "display_data"
    }
   ],
   "source": [
    "table.AnnualizedReturns(sp500_monthly_returns)\n"
   ]
  },
  {
   "cell_type": "code",
   "execution_count": 24,
   "metadata": {},
   "outputs": [
    {
     "data": {
      "text/plain": [
       "     Index       sp500.Close       \n",
       " Min.   :2008   Min.   :-0.169425  \n",
       " 1st Qu.:2010   1st Qu.:-0.018076  \n",
       " Median :2012   Median : 0.009512  \n",
       " Mean   :2012   Mean   : 0.004520  \n",
       " 3rd Qu.:2015   3rd Qu.: 0.033159  \n",
       " Max.   :2017   Max.   : 0.107723  "
      ]
     },
     "metadata": {},
     "output_type": "display_data"
    },
    {
     "data": {
      "text/plain": [
       "         sp500.Close\n",
       "Jul 2007   -0.031982\n",
       "Aug 2007    0.012864\n",
       "Sep 2007    0.035794\n",
       "Oct 2007    0.014822\n",
       "Nov 2007   -0.044043\n",
       "Dec 2007   -0.008628"
      ]
     },
     "metadata": {},
     "output_type": "display_data"
    }
   ],
   "source": [
    "summary(sp500_monthly_returns)\n",
    "head(sp500_monthly_returns)"
   ]
  },
  {
   "cell_type": "code",
   "execution_count": 23,
   "metadata": {},
   "outputs": [
    {
     "data": {
      "text/html": [
       "0.515297"
      ],
      "text/latex": [
       "0.515297"
      ],
      "text/markdown": [
       "0.515297"
      ],
      "text/plain": [
       "[1] 0.515297"
      ]
     },
     "metadata": {},
     "output_type": "display_data"
    },
    {
     "data": {
      "text/html": [
       "114"
      ],
      "text/latex": [
       "114"
      ],
      "text/markdown": [
       "114"
      ],
      "text/plain": [
       "[1] 114"
      ]
     },
     "metadata": {},
     "output_type": "display_data"
    }
   ],
   "source": [
    "sum(sp500_monthly_returns)\n",
    "nrow(sp500_monthly_returns)"
   ]
  },
  {
   "cell_type": "code",
   "execution_count": null,
   "metadata": {
    "collapsed": true
   },
   "outputs": [],
   "source": [
    "\n",
    "\n",
    "\n",
    "\n",
    "\n",
    "\n",
    "\n",
    "\n",
    "\n",
    "\n",
    "\n",
    "\n",
    "\n",
    "\n",
    "\n",
    "\n",
    "\n",
    "\n",
    "\n",
    "\n",
    "\n",
    "\n"
   ]
  }
 ],
 "metadata": {
  "kernelspec": {
   "display_name": "R",
   "language": "R",
   "name": "ir"
  },
  "language_info": {
   "codemirror_mode": "r",
   "file_extension": ".r",
   "mimetype": "text/x-r-source",
   "name": "R",
   "pygments_lexer": "r",
   "version": "3.4.2"
  }
 },
 "nbformat": 4,
 "nbformat_minor": 2
}
